{
 "cells": [
  {
   "cell_type": "code",
   "execution_count": 8,
   "metadata": {},
   "outputs": [
    {
     "ename": "ImportError",
     "evalue": "cannot import name 'add_filename_timestampV2' from 'utils.file_ops' (c:\\Projects\\2022\\Michaels_Code\\grundfos-express-tools\\pipe diameter finder\\utils\\file_ops.py)",
     "output_type": "error",
     "traceback": [
      "\u001b[1;31m---------------------------------------------------------------------------\u001b[0m",
      "\u001b[1;31mImportError\u001b[0m                               Traceback (most recent call last)",
      "\u001b[1;32mc:\\Projects\\2022\\Michaels_Code\\grundfos-express-tools\\pipe diameter finder\\Patrick.ipynb Cell 1'\u001b[0m in \u001b[0;36m<cell line: 12>\u001b[1;34m()\u001b[0m\n\u001b[0;32m     <a href='vscode-notebook-cell:/c%3A/Projects/2022/Michaels_Code/grundfos-express-tools/pipe%20diameter%20finder/Patrick.ipynb#ch0000000?line=9'>10</a>\u001b[0m \u001b[39mfrom\u001b[39;00m \u001b[39mtyping\u001b[39;00m \u001b[39mimport\u001b[39;00m overload,Union,Generator\n\u001b[0;32m     <a href='vscode-notebook-cell:/c%3A/Projects/2022/Michaels_Code/grundfos-express-tools/pipe%20diameter%20finder/Patrick.ipynb#ch0000000?line=10'>11</a>\u001b[0m \u001b[39mfrom\u001b[39;00m \u001b[39mpandas\u001b[39;00m\u001b[39m.\u001b[39;00m\u001b[39m_typing\u001b[39;00m \u001b[39mimport\u001b[39;00m FilePath,ReadBuffer\n\u001b[1;32m---> <a href='vscode-notebook-cell:/c%3A/Projects/2022/Michaels_Code/grundfos-express-tools/pipe%20diameter%20finder/Patrick.ipynb#ch0000000?line=11'>12</a>\u001b[0m \u001b[39mfrom\u001b[39;00m \u001b[39mutils\u001b[39;00m\u001b[39m.\u001b[39;00m\u001b[39mfile_ops\u001b[39;00m \u001b[39mimport\u001b[39;00m add_filename_timestampV2\n\u001b[0;32m     <a href='vscode-notebook-cell:/c%3A/Projects/2022/Michaels_Code/grundfos-express-tools/pipe%20diameter%20finder/Patrick.ipynb#ch0000000?line=13'>14</a>\u001b[0m \u001b[39m#Need to input the Directory I want to use \u001b[39;00m\n\u001b[0;32m     <a href='vscode-notebook-cell:/c%3A/Projects/2022/Michaels_Code/grundfos-express-tools/pipe%20diameter%20finder/Patrick.ipynb#ch0000000?line=14'>15</a>\u001b[0m Input_dir\u001b[39m=\u001b[39m\u001b[39mr\u001b[39m\u001b[39m\"\u001b[39m\u001b[39mC:\u001b[39m\u001b[39m\\\u001b[39m\u001b[39mProjects\u001b[39m\u001b[39m\\\u001b[39m\u001b[39m2022\u001b[39m\u001b[39m\\\u001b[39m\u001b[39mMichaels_Code\u001b[39m\u001b[39m\\\u001b[39m\u001b[39mgrundfos-express-tools\u001b[39m\u001b[39m\\\u001b[39m\u001b[39mpipe diameter finder\u001b[39m\u001b[39m\\\u001b[39m\u001b[39minput files\u001b[39m\u001b[39m\"\u001b[39m\n",
      "\u001b[1;31mImportError\u001b[0m: cannot import name 'add_filename_timestampV2' from 'utils.file_ops' (c:\\Projects\\2022\\Michaels_Code\\grundfos-express-tools\\pipe diameter finder\\utils\\file_ops.py)"
     ]
    }
   ],
   "source": [
    "import shutil\n",
    "import numpy as np\n",
    "import pandas as pd\n",
    "import os\n",
    "import io\n",
    "import multiprocessing as mp\n",
    "import tempfile\n",
    "import typing\n",
    "from os import walk\n",
    "from typing import overload,Union,Generator\n",
    "from pandas._typing import FilePath,ReadBuffer\n",
    "from utils.file_ops import add_filename_timestampV2\n",
    "\n",
    "#Need to input the Directory I want to use \n",
    "Input_dir=r\"C:\\Projects\\2022\\Michaels_Code\\grundfos-express-tools\\pipe diameter finder\\input files\"\n",
    "Output_dir=r\"C:\\Projects\\2022\\Michaels_Code\\grundfos-express-tools\\pipe diameter finder\\output files\"\n",
    "\n",
    "\n",
    "\n",
    "def iterate_over_dir(dir,filter:typing.Callable=None)->Generator:\n",
    "    filenames = next(walk(Input_dir), (None, None, []))[2]\n",
    "    for file in filenames:\n",
    "        _file=os.path.join(dir, file)\n",
    "        yield _read_single_file(_file)\n",
    "            \n",
    "def _read_single_file(file,chunksize:int=1024)->tuple[bytes,str]:\n",
    "    res=b''\n",
    "    with open(file,'rb') as f2:\n",
    "        while True:\n",
    "            data=f2.read(chunksize)\n",
    "            if not data:\n",
    "                break\n",
    "            res+=data\n",
    "        return res,file\n",
    "\n",
    "#Run in Excel Sheet\n",
    "count=0\n",
    "a=iterate_over_dir(Input_dir)\n",
    "# while True:\n",
    "#     try:\n",
    "#         next(a)\n",
    "#         print(count)\n",
    "#         count+=1\n",
    "#     except StopIteration:\n",
    "#         break\n",
    "# next(a)\n",
    "# next(a)\n",
    "# next(a)\n",
    "(d1,file)=next(a)\n",
    "\n",
    "\n",
    "\n",
    "\n",
    "\n",
    "def get_df(data:Union[FilePath,ReadBuffer[bytes],bytes],sheet_names:str|list[str])->pd.DataFrame|None:\n",
    "    \n",
    "    #Check if sheets are iterable or not \n",
    "\n",
    "    #Check if sheets are in the excel doc\n",
    "\n",
    "    #Check if the data is in the correct format\n",
    "\n",
    "    df1=pd.read_excel(data,sheet_name=sheet_names)\n",
    "    \n",
    "    branch_df= df1.copy()[[\"Max Branch Flow (gpm)\",\"Max Branch Diameter (in.)\"]]\n",
    "    branch_df.loc[:,'copy_index']=branch_df.index\n",
    "\n",
    "    header_df = df1.copy()[[\"Max Header Flow (gpm)\",\"Max Header Diameter (in.)\"]]\n",
    "    header_df.loc[:,'copy_index']=header_df.index\n",
    "\n",
    "    reference_df = df1.copy()[[\"Flow (gpm)\", \"Pipe Diameter (in.)\"]]\n",
    "    reference_df.set_index(\"Flow (gpm)\", inplace=True)\n",
    "    reference_df.dropna(axis='index', how='any', inplace=True) #This throws a warning\n",
    "\n",
    "    branch_output_df = pd.merge_asof(branch_df.sort_values('Max Branch Flow (gpm)'), reference_df, left_on=\"Max Branch Flow (gpm)\", right_on=\"Flow (gpm)\", direction='backward')\n",
    "    branch_output_df.sort_values(by=['copy_index'], inplace=True)\n",
    "\n",
    "    header_output_df = pd.merge_asof(header_df.sort_values('Max Header Flow (gpm)'), reference_df, left_on=\"Max Header Flow (gpm)\", right_on=\"Flow (gpm)\", direction='backward')\n",
    "    header_output_df.sort_values(by=['copy_index'], inplace=True)\n",
    "\n",
    "    output_df = pd.merge(branch_output_df, header_output_df, on=\"copy_index\")\n",
    "    output_df.drop(['copy_index'], axis=1, inplace=True)\n",
    "\n",
    "    output_df[\"Max Branch Diameter (in.)\"]=np.where(output_df[\"Max Branch Diameter (in.)\"]==output_df['Pipe Diameter (in.)_x'],output_df[\"Max Branch Diameter (in.)\"],output_df['Pipe Diameter (in.)_x'])\n",
    "    output_df[\"Max Header Diameter (in.)\"]=np.where(output_df[\"Max Header Diameter (in.)\"]==output_df['Pipe Diameter (in.)_y'],output_df[\"Max Header Diameter (in.)\"],output_df['Pipe Diameter (in.)_y'])\n",
    "    output_df.drop(columns=['Pipe Diameter (in.)_x','Pipe Diameter (in.)_y'],inplace=True)\n",
    "\n",
    "    return output_df\n",
    "\n",
    "\n",
    "      \n",
    "sheetname='Max flow to diameter'\n",
    "d2=get_df(d1,sheetname)\n",
    "\n",
    "\n"
   ]
  },
  {
   "cell_type": "markdown",
   "metadata": {},
   "source": [
    "Write to a New File"
   ]
  },
  {
   "cell_type": "code",
   "execution_count": 2,
   "metadata": {},
   "outputs": [
    {
     "data": {
      "text/plain": [
       "'C:\\\\Projects\\\\2022\\\\Michaels_Code\\\\grundfos-express-tools\\\\pipe diameter finder\\\\input files\\\\2022-09-14_14-16-09 Mech GRP foundation for KPVS_CUE rev2.xlsx'"
      ]
     },
     "execution_count": 2,
     "metadata": {},
     "output_type": "execute_result"
    }
   ],
   "source": [
    "#I need to create a new file to write the df to\n",
    "\"\"\"I need the following:\n",
    "1) file_name of the original file\n",
    "2) data\n",
    "3) new directory\"\"\"\n",
    "\n",
    "file #path to the OG file\n",
    "d1 #data of the file \n",
    "Output_dir=r\"C:\\Projects\\2022\\Michaels_Code\\grundfos-express-tools\\pipe diameter finder\\output files\" #Destination Directory for new File\n",
    "new_sheet=sheetname+'_Completed' #New Sheet Name\n",
    "new_file_path=os.path.join(Output_dir,add_filename_timestampV2(file)) #New File to write to\n",
    "new_file_path\n",
    "# with open(new_file_path,'wb') as f:\n",
    "#     f.writable()\n",
    "\n"
   ]
  }
 ],
 "metadata": {
  "interpreter": {
   "hash": "5d89935b22884bac8e846ef6a5fb14ff565b7e382ac92ebe1031401d4b8e3f29"
  },
  "kernelspec": {
   "display_name": "Python 3.10.2 64-bit",
   "language": "python",
   "name": "python3"
  },
  "language_info": {
   "codemirror_mode": {
    "name": "ipython",
    "version": 3
   },
   "file_extension": ".py",
   "mimetype": "text/x-python",
   "name": "python",
   "nbconvert_exporter": "python",
   "pygments_lexer": "ipython3",
   "version": "3.10.2"
  },
  "orig_nbformat": 4
 },
 "nbformat": 4,
 "nbformat_minor": 2
}
