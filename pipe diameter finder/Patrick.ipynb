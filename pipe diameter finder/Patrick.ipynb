{
 "cells": [
  {
   "cell_type": "code",
   "execution_count": 9,
   "metadata": {},
   "outputs": [],
   "source": [
    "import shutil\n",
    "import pandas as pd\n",
    "import os\n",
    "import io\n",
    "import multiprocessing as mp\n",
    "import tempfile\n",
    "import typing\n",
    "from os import walk\n",
    "from utils.file_ops import add_filename_timestamp,iterateSubDirFiles,add_filename_timestamp\n",
    "\n",
    "#Need to input the Directory I want to use \n",
    "Input_dir=r\"C:\\Projects\\2022\\Michaels_Code\\grundfos-express-tools\\pipe diameter finder\\input files\"\n",
    "Output_dir=r\"C:\\Projects\\2022\\Michaels_Code\\grundfos-express-tools\\pipe diameter finder\\output files\"\n",
    "\n",
    "\n",
    "\n",
    "def iterate_over_dir(dir,filter:typing.Callable=None)->typing.Generator:\n",
    "    filenames = next(walk(Input_dir), (None, None, []))[2]\n",
    "    for file in filenames:\n",
    "        _file=os.path.join(dir, file)\n",
    "        yield _read_single_file(_file)\n",
    "            \n",
    "def _read_single_file(file,chunksize:int=1024)->typing.Generator:\n",
    "    res=b''\n",
    "    with open(file,'rb') as f2:\n",
    "        while True:\n",
    "            data=f2.read(chunksize)\n",
    "            if not data:\n",
    "                break\n",
    "            res+=data\n",
    "        return res\n",
    "\n",
    "#Run in Excel Sheet\n",
    "sheetname = \"GES_VLS_CUE\" \n",
    "a=iterate_over_dir(Input_dir)\n",
    "while True:\n",
    "    try:\n",
    "        item=next(a)\n",
    "    except StopIteration:\n",
    "        break\n",
    "\n",
    "\n",
    "\n"
   ]
  }
 ],
 "metadata": {
  "interpreter": {
   "hash": "5d89935b22884bac8e846ef6a5fb14ff565b7e382ac92ebe1031401d4b8e3f29"
  },
  "kernelspec": {
   "display_name": "Python 3.10.2 64-bit",
   "language": "python",
   "name": "python3"
  },
  "language_info": {
   "codemirror_mode": {
    "name": "ipython",
    "version": 3
   },
   "file_extension": ".py",
   "mimetype": "text/x-python",
   "name": "python",
   "nbconvert_exporter": "python",
   "pygments_lexer": "ipython3",
   "version": "3.10.2"
  },
  "orig_nbformat": 4
 },
 "nbformat": 4,
 "nbformat_minor": 2
}
