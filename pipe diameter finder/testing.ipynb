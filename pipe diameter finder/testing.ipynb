{
 "cells": [
  {
   "cell_type": "code",
   "execution_count": null,
   "metadata": {},
   "outputs": [],
   "source": [
    "import os\n",
    "from utils.file_ops import add_filename_timestamp\n",
    "import shutil\n",
    "import pandas as pd"
   ]
  },
  {
   "cell_type": "code",
   "execution_count": null,
   "metadata": {},
   "outputs": [],
   "source": [
    "myDir=r\"C:\\Projects\\2022\\Michaels_Code\\grundfos-express-tools\\pipe diameter finder\\input files\"\n",
    "completed_dir=r\"C:\\Projects\\2022\\Michaels_Code\\grundfos-express-tools\\pipe diameter finder\\output files\"\n",
    "\n",
    "\n",
    "# myDir = r\"C:\\Users\\104092\\OneDrive - Grundfos\\Documents\\git\\grundfos-express-tools\\pipe diameter finder\\input files\"\n",
    "file = \"Mech GRP foundation for VLS_CUE rev2.xlsx\"\n",
    "filePath = os.path.join(myDir, file)\n",
    "\n",
    "# Create working copy\n",
    "# completed_dir = r\"C:\\Users\\104092\\OneDrive - Grundfos\\Documents\\git\\grundfos-express-tools\\pipe diameter finder\\output files\"\n",
    "working_copy = os.path.join(completed_dir, add_filename_timestamp(file))\n",
    "shutil.copyfile(filePath, working_copy) # creates working copy to leave original file untouched"
   ]
  },
  {
   "cell_type": "code",
   "execution_count": 9,
   "metadata": {},
   "outputs": [],
   "source": [
    "# Read in Excel sheet to a dataframe\n",
    "sheetname = \"GES_VLS_CUE\"\n",
    "data = pd.read_excel(working_copy, sheet_name=sheetname)\n",
    "data.dropna(axis=1, how='all', inplace=True) # Drops nan columns"
   ]
  },
  {
   "cell_type": "code",
   "execution_count": 10,
   "metadata": {},
   "outputs": [
    {
     "ename": "KeyError",
     "evalue": "\"None of [Index(['Max Branch Flow (gpm)', 'Max Branch Diameter (in.)'], dtype='object')] are in the [columns]\"",
     "output_type": "error",
     "traceback": [
      "\u001b[1;31m---------------------------------------------------------------------------\u001b[0m",
      "\u001b[1;31mKeyError\u001b[0m                                  Traceback (most recent call last)",
      "\u001b[1;32mc:\\Projects\\2022\\Michaels_Code\\grundfos-express-tools\\pipe diameter finder\\testing.ipynb Cell 4'\u001b[0m in \u001b[0;36m<cell line: 1>\u001b[1;34m()\u001b[0m\n\u001b[1;32m----> <a href='vscode-notebook-cell:/c%3A/Projects/2022/Michaels_Code/grundfos-express-tools/pipe%20diameter%20finder/testing.ipynb#ch0000003?line=0'>1</a>\u001b[0m branch_data \u001b[39m=\u001b[39m data[[\u001b[39m\"\u001b[39;49m\u001b[39mMax Branch Flow (gpm)\u001b[39;49m\u001b[39m\"\u001b[39;49m,\u001b[39m\"\u001b[39;49m\u001b[39mMax Branch Diameter (in.)\u001b[39;49m\u001b[39m\"\u001b[39;49m]]\n\u001b[0;32m      <a href='vscode-notebook-cell:/c%3A/Projects/2022/Michaels_Code/grundfos-express-tools/pipe%20diameter%20finder/testing.ipynb#ch0000003?line=1'>2</a>\u001b[0m branch_data[\u001b[39m'\u001b[39m\u001b[39mcopy_index\u001b[39m\u001b[39m'\u001b[39m] \u001b[39m=\u001b[39m branch_data\u001b[39m.\u001b[39mindex\n\u001b[0;32m      <a href='vscode-notebook-cell:/c%3A/Projects/2022/Michaels_Code/grundfos-express-tools/pipe%20diameter%20finder/testing.ipynb#ch0000003?line=3'>4</a>\u001b[0m header_data \u001b[39m=\u001b[39m data[[\u001b[39m\"\u001b[39m\u001b[39mMax Header Flow (gpm)\u001b[39m\u001b[39m\"\u001b[39m,\u001b[39m\"\u001b[39m\u001b[39mMax Header Diameter (in.)\u001b[39m\u001b[39m\"\u001b[39m]]\n",
      "File \u001b[1;32mc:\\Programs\\Python\\Python3102\\lib\\site-packages\\pandas\\core\\frame.py:3511\u001b[0m, in \u001b[0;36mDataFrame.__getitem__\u001b[1;34m(self, key)\u001b[0m\n\u001b[0;32m   <a href='file:///c%3A/Programs/Python/Python3102/lib/site-packages/pandas/core/frame.py?line=3508'>3509</a>\u001b[0m     \u001b[39mif\u001b[39;00m is_iterator(key):\n\u001b[0;32m   <a href='file:///c%3A/Programs/Python/Python3102/lib/site-packages/pandas/core/frame.py?line=3509'>3510</a>\u001b[0m         key \u001b[39m=\u001b[39m \u001b[39mlist\u001b[39m(key)\n\u001b[1;32m-> <a href='file:///c%3A/Programs/Python/Python3102/lib/site-packages/pandas/core/frame.py?line=3510'>3511</a>\u001b[0m     indexer \u001b[39m=\u001b[39m \u001b[39mself\u001b[39;49m\u001b[39m.\u001b[39;49mcolumns\u001b[39m.\u001b[39;49m_get_indexer_strict(key, \u001b[39m\"\u001b[39;49m\u001b[39mcolumns\u001b[39;49m\u001b[39m\"\u001b[39;49m)[\u001b[39m1\u001b[39m]\n\u001b[0;32m   <a href='file:///c%3A/Programs/Python/Python3102/lib/site-packages/pandas/core/frame.py?line=3512'>3513</a>\u001b[0m \u001b[39m# take() does not accept boolean indexers\u001b[39;00m\n\u001b[0;32m   <a href='file:///c%3A/Programs/Python/Python3102/lib/site-packages/pandas/core/frame.py?line=3513'>3514</a>\u001b[0m \u001b[39mif\u001b[39;00m \u001b[39mgetattr\u001b[39m(indexer, \u001b[39m\"\u001b[39m\u001b[39mdtype\u001b[39m\u001b[39m\"\u001b[39m, \u001b[39mNone\u001b[39;00m) \u001b[39m==\u001b[39m \u001b[39mbool\u001b[39m:\n",
      "File \u001b[1;32mc:\\Programs\\Python\\Python3102\\lib\\site-packages\\pandas\\core\\indexes\\base.py:5782\u001b[0m, in \u001b[0;36mIndex._get_indexer_strict\u001b[1;34m(self, key, axis_name)\u001b[0m\n\u001b[0;32m   <a href='file:///c%3A/Programs/Python/Python3102/lib/site-packages/pandas/core/indexes/base.py?line=5778'>5779</a>\u001b[0m \u001b[39melse\u001b[39;00m:\n\u001b[0;32m   <a href='file:///c%3A/Programs/Python/Python3102/lib/site-packages/pandas/core/indexes/base.py?line=5779'>5780</a>\u001b[0m     keyarr, indexer, new_indexer \u001b[39m=\u001b[39m \u001b[39mself\u001b[39m\u001b[39m.\u001b[39m_reindex_non_unique(keyarr)\n\u001b[1;32m-> <a href='file:///c%3A/Programs/Python/Python3102/lib/site-packages/pandas/core/indexes/base.py?line=5781'>5782</a>\u001b[0m \u001b[39mself\u001b[39;49m\u001b[39m.\u001b[39;49m_raise_if_missing(keyarr, indexer, axis_name)\n\u001b[0;32m   <a href='file:///c%3A/Programs/Python/Python3102/lib/site-packages/pandas/core/indexes/base.py?line=5783'>5784</a>\u001b[0m keyarr \u001b[39m=\u001b[39m \u001b[39mself\u001b[39m\u001b[39m.\u001b[39mtake(indexer)\n\u001b[0;32m   <a href='file:///c%3A/Programs/Python/Python3102/lib/site-packages/pandas/core/indexes/base.py?line=5784'>5785</a>\u001b[0m \u001b[39mif\u001b[39;00m \u001b[39misinstance\u001b[39m(key, Index):\n\u001b[0;32m   <a href='file:///c%3A/Programs/Python/Python3102/lib/site-packages/pandas/core/indexes/base.py?line=5785'>5786</a>\u001b[0m     \u001b[39m# GH 42790 - Preserve name from an Index\u001b[39;00m\n",
      "File \u001b[1;32mc:\\Programs\\Python\\Python3102\\lib\\site-packages\\pandas\\core\\indexes\\base.py:5842\u001b[0m, in \u001b[0;36mIndex._raise_if_missing\u001b[1;34m(self, key, indexer, axis_name)\u001b[0m\n\u001b[0;32m   <a href='file:///c%3A/Programs/Python/Python3102/lib/site-packages/pandas/core/indexes/base.py?line=5839'>5840</a>\u001b[0m     \u001b[39mif\u001b[39;00m use_interval_msg:\n\u001b[0;32m   <a href='file:///c%3A/Programs/Python/Python3102/lib/site-packages/pandas/core/indexes/base.py?line=5840'>5841</a>\u001b[0m         key \u001b[39m=\u001b[39m \u001b[39mlist\u001b[39m(key)\n\u001b[1;32m-> <a href='file:///c%3A/Programs/Python/Python3102/lib/site-packages/pandas/core/indexes/base.py?line=5841'>5842</a>\u001b[0m     \u001b[39mraise\u001b[39;00m \u001b[39mKeyError\u001b[39;00m(\u001b[39mf\u001b[39m\u001b[39m\"\u001b[39m\u001b[39mNone of [\u001b[39m\u001b[39m{\u001b[39;00mkey\u001b[39m}\u001b[39;00m\u001b[39m] are in the [\u001b[39m\u001b[39m{\u001b[39;00maxis_name\u001b[39m}\u001b[39;00m\u001b[39m]\u001b[39m\u001b[39m\"\u001b[39m)\n\u001b[0;32m   <a href='file:///c%3A/Programs/Python/Python3102/lib/site-packages/pandas/core/indexes/base.py?line=5843'>5844</a>\u001b[0m not_found \u001b[39m=\u001b[39m \u001b[39mlist\u001b[39m(ensure_index(key)[missing_mask\u001b[39m.\u001b[39mnonzero()[\u001b[39m0\u001b[39m]]\u001b[39m.\u001b[39munique())\n\u001b[0;32m   <a href='file:///c%3A/Programs/Python/Python3102/lib/site-packages/pandas/core/indexes/base.py?line=5844'>5845</a>\u001b[0m \u001b[39mraise\u001b[39;00m \u001b[39mKeyError\u001b[39;00m(\u001b[39mf\u001b[39m\u001b[39m\"\u001b[39m\u001b[39m{\u001b[39;00mnot_found\u001b[39m}\u001b[39;00m\u001b[39m not in index\u001b[39m\u001b[39m\"\u001b[39m)\n",
      "\u001b[1;31mKeyError\u001b[0m: \"None of [Index(['Max Branch Flow (gpm)', 'Max Branch Diameter (in.)'], dtype='object')] are in the [columns]\""
     ]
    }
   ],
   "source": [
    "branch_data = data[[\"Max Branch Flow (gpm)\",\"Max Branch Diameter (in.)\"]]\n",
    "branch_data['copy_index'] = branch_data.index\n",
    "\n",
    "header_data = data[[\"Max Header Flow (gpm)\",\"Max Header Diameter (in.)\"]]\n",
    "header_data['copy_index'] = header_data.index\n",
    "\n",
    "reference_df = data[[\"Flow (gpm)\", \"Pipe Diameter (in.)\"]]\n",
    "reference_df.set_index(\"Flow (gpm)\", inplace=True)\n",
    "reference_df.dropna(axis='index', how='any', inplace=True)"
   ]
  },
  {
   "cell_type": "code",
   "execution_count": null,
   "metadata": {},
   "outputs": [],
   "source": [
    "branch_output_df = pd.merge_asof(branch_data.sort_values('Max Branch Flow (gpm)'), reference_df, left_on=\"Max Branch Flow (gpm)\", right_on=\"Flow (gpm)\", direction='backward')\n",
    "branch_output_df.sort_values(by=['copy_index'], inplace=True)\n",
    "header_output_df = pd.merge_asof(header_data.sort_values('Max Header Flow (gpm)'), reference_df, left_on=\"Max Header Flow (gpm)\", right_on=\"Flow (gpm)\", direction='backward')\n",
    "header_output_df.sort_values(by=['copy_index'], inplace=True)"
   ]
  },
  {
   "cell_type": "code",
   "execution_count": null,
   "metadata": {},
   "outputs": [],
   "source": [
    "output_df = pd.merge(branch_output_df, header_output_df, on=\"copy_index\")\n",
    "output_df.drop(['copy_index'], axis=1, inplace=True)"
   ]
  },
  {
   "cell_type": "code",
   "execution_count": null,
   "metadata": {},
   "outputs": [],
   "source": [
    "# Write resulting dataframes to new sheet in PSD with changes.\n",
    "with pd.ExcelWriter(working_copy, engine='openpyxl', mode='a', if_sheet_exists='overlay') as writer:  \n",
    "    output_df.to_excel(writer, sheet_name=\"Run 2\", index=False)"
   ]
  }
 ],
 "metadata": {
  "interpreter": {
   "hash": "5d89935b22884bac8e846ef6a5fb14ff565b7e382ac92ebe1031401d4b8e3f29"
  },
  "kernelspec": {
   "display_name": "Python 3.10.2 64-bit",
   "language": "python",
   "name": "python3"
  },
  "language_info": {
   "codemirror_mode": {
    "name": "ipython",
    "version": 3
   },
   "file_extension": ".py",
   "mimetype": "text/x-python",
   "name": "python",
   "nbconvert_exporter": "python",
   "pygments_lexer": "ipython3",
   "version": "3.10.2"
  },
  "orig_nbformat": 4
 },
 "nbformat": 4,
 "nbformat_minor": 2
}
