{
 "cells": [
  {
   "cell_type": "code",
   "execution_count": 1,
   "metadata": {},
   "outputs": [],
   "source": [
    "import os\n",
    "# This is the folder/file with the curve export csv\n",
    "myDir = r\"C:\\Users\\104092\\OneDrive - Grundfos\\Documents\\git\\grundfos-express-tools\\downfill curve excel\"\n",
    "myFile = \"TPE3 curves for Michael.xlsx\"\n",
    "filePath = os.path.join(myDir, myFile)"
   ]
  },
  {
   "cell_type": "code",
   "execution_count": 4,
   "metadata": {},
   "outputs": [],
   "source": [
    "import pandas as pd\n",
    "psd_data = pd.read_excel(filePath, sheet_name=\"PumpCurves\")\n",
    "psd_data['RPM(Curve nominal)'] = psd_data['RPM(Curve nominal)'].ffill()"
   ]
  },
  {
   "cell_type": "code",
   "execution_count": 6,
   "metadata": {},
   "outputs": [],
   "source": [
    "# Create copy of PSD tab\n",
    "from openpyxl import load_workbook\n",
    "\n",
    "wb = load_workbook(filePath)\n",
    "ws = wb['PumpCurves']\n",
    "\n",
    "tabName = \"PumpCurves -\" + \" Downfilled RPM\"\n",
    "wb.copy_worksheet(ws).title = tabName\n",
    "wb.save(filePath)"
   ]
  },
  {
   "cell_type": "code",
   "execution_count": 7,
   "metadata": {},
   "outputs": [],
   "source": [
    "# Write resulting dataframe to a template PSD\n",
    "with pd.ExcelWriter(filePath, engine='openpyxl', mode='a', if_sheet_exists='overlay') as writer:  \n",
    "    psd_data.to_excel(writer, sheet_name=tabName, index=False)"
   ]
  }
 ],
 "metadata": {
  "interpreter": {
   "hash": "48fa2eccdebaf1ff24b5e55dfacc47ca863d8022685fa20f5e1e5031fac11810"
  },
  "kernelspec": {
   "display_name": "Python 3.8.3 64-bit (system)",
   "language": "python",
   "name": "python3"
  },
  "language_info": {
   "codemirror_mode": {
    "name": "ipython",
    "version": 3
   },
   "file_extension": ".py",
   "mimetype": "text/x-python",
   "name": "python",
   "nbconvert_exporter": "python",
   "pygments_lexer": "ipython3",
   "version": "3.8.3"
  },
  "orig_nbformat": 4
 },
 "nbformat": 4,
 "nbformat_minor": 2
}
