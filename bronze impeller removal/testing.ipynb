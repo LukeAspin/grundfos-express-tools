{
 "cells": [
  {
   "cell_type": "markdown",
   "metadata": {},
   "source": [
    "## TO DOs\n",
    "- [x] Use GUI to select files\n",
    "- [ ] Select list of partnumbers from csv?\n",
    "- [ ] Have script for loop through multiple files\n",
    "- [ ] If first entry is removed, keep [START] in top left cell "
   ]
  },
  {
   "cell_type": "code",
   "execution_count": 643,
   "metadata": {},
   "outputs": [],
   "source": [
    "import os\n",
    "from utils.file_ops import add_filename_timestamp\n",
    "import shutil\n",
    "import datetime"
   ]
  },
  {
   "cell_type": "code",
   "execution_count": null,
   "metadata": {},
   "outputs": [],
   "source": [
    "myDir = r\"C:\\Users\\104092\\OneDrive - Grundfos\\Documents\\git\\grundfos-express-tools\\bronze impeller removal\\input files\"\n",
    " \n",
    "# Reason/Justification for removal\n",
    "timeStamp = datetime.datetime.now().strftime(\"%m-%d-%Y\")\n",
    "reason = input(\"Reason for removal: \")\n",
    "authority = input(\"Who authorized/requested this change? \")\n",
    "removal_note = timeStamp + \" \" + reason + \" per \" + authority\n",
    "\n",
    "\n",
    "\"\"\" Iterates through all files within a directory and perform function on each file\"\"\"\n",
    "for root, subdirectories, files in os.walk(myDir):\n",
    "    for file in files:\n",
    "        # fileName, fileExtension = os.path.splitext(file)\n",
    "        filePath = os.path.join(myDir, file)\n",
    "        print(\"Opening file for updates: {}\".format(filePath))\n",
    "                    \n",
    "        working_copy = add_filename_timestamp(file)\n",
    "        completed_dir = r\"C:\\Users\\104092\\OneDrive - Grundfos\\Documents\\git\\grundfos-express-tools\\bronze impeller removal\\output files\"\n",
    "        working_copy = os.path.join(completed_dir,working_copy)\n",
    "        shutil.copyfile(filePath, working_copy) # creates working copy to leave original file untouched"
   ]
  },
  {
   "cell_type": "code",
   "execution_count": null,
   "metadata": {},
   "outputs": [],
   "source": [
    "\n",
    "myDir = r\"C:\\Users\\104092\\OneDrive - Grundfos\\Documents\\git\\grundfos-express-tools\\bronze impeller removal\"\n",
    "myFile = \"VL-VLSbom - orignal.xlsx\"\n",
    "filePath = os.path.join(myDir, myFile)\n",
    "\n",
    "working_copy = add_filename_timestamp(filePath)\n",
    "shutil.copyfile(filePath, working_copy) # creates working copy to leave original file untouched\n",
    "\n",
    "list_of_pns = [\n",
    "    96699290, 97775274, 96699299, 97775277, 96778078,\n",
    "    97780992, 96699305, 96769184, 97778033, 96769190,\n",
    "    96769205, 97778039, 96769256, 96896891, 96769259,\n",
    "    96769271, 97780970, 96769280, 97780973\n",
    "]\n",
    "str_list = [str(numstr) for numstr in list_of_pns]"
   ]
  },
  {
   "cell_type": "code",
   "execution_count": 644,
   "metadata": {},
   "outputs": [],
   "source": [
    "# Read in Excel sheet to a dataframe\n",
    "import pandas as pd\n",
    "\n",
    "sheetname = \"Impeller\"\n",
    "psd_data = pd.read_excel(working_copy, sheet_name=sheetname, header=5, dtype={'BOM': str})\n"
   ]
  },
  {
   "cell_type": "code",
   "execution_count": 645,
   "metadata": {},
   "outputs": [],
   "source": [
    "# Find [END] row/index \n",
    "last_psd_row = psd_data[psd_data['Full Data'] == \"[END]\"].index.to_list()[0]\n",
    "\n",
    "# Need to filter out old rows that are already removed (typically at bottom of PSDs)\n",
    "data = psd_data.iloc[:last_psd_row]"
   ]
  },
  {
   "cell_type": "code",
   "execution_count": 646,
   "metadata": {},
   "outputs": [],
   "source": [
    "def find_bronze_impellers(df):\n",
    "    if df.at[0,'BOM'] in str_list:\n",
    "        return True\n",
    "    else:\n",
    "        return False"
   ]
  },
  {
   "cell_type": "code",
   "execution_count": 647,
   "metadata": {},
   "outputs": [],
   "source": [
    "# Find matching partnumber's from list above, and then capture \"process variants\"\n",
    "group_model_matlcode = data.groupby([\"Price ID\"])\n",
    "\n",
    "# key, frame = next(iter(group_model_matlcode))\n",
    "# frame.head()\n",
    "\n",
    "df_list_to_remove = []\n",
    "df_list_to_keep = []\n",
    "\n",
    "for key, frame in group_model_matlcode:\n",
    "    frame.reset_index(inplace=True)     # Reset index for each group\n",
    "\n",
    "    if frame.at[0,'BOM'] in str_list:   # Finding matching partnumbers to remove\n",
    "        df_list_to_remove.append(frame) # Need to add this sub-group to a \"removed dataframe\"\n",
    "    else:\n",
    "        df_list_to_keep.append(frame)   # Need to retain this sub-group, add to a \"keep dataframe\"\n",
    "\n",
    "# Concatenating list of dfs to single dfs.\n",
    "removals = pd.concat(df_list_to_remove)\n",
    "removals.at[0, 'Full Data'] = \"\" # This removes the [START] if the first PSD row is flagged to be removed\n",
    "keep = pd.concat(df_list_to_keep)\n",
    "\n",
    "# Need to drop extra \"Index\" Column\n",
    "removals.drop('index', axis=1, inplace=True)\n",
    "keep.drop('index', axis=1, inplace=True)"
   ]
  },
  {
   "cell_type": "code",
   "execution_count": 648,
   "metadata": {},
   "outputs": [],
   "source": [
    "# # Create copy of PSD tab\n",
    "from openpyxl import load_workbook\n",
    "\n",
    "wb = load_workbook(working_copy)\n",
    "ws = wb['Impeller']\n",
    "\n",
    "tabName = sheetname + \" No Bronze\"\n",
    "wb.copy_worksheet(ws).title = tabName"
   ]
  },
  {
   "cell_type": "code",
   "execution_count": 649,
   "metadata": {},
   "outputs": [],
   "source": [
    "# Write resulting dataframe to a template PSD\n",
    "psd_startrow = 5\n",
    "psd_startcol = 0\n",
    "\n",
    "with pd.ExcelWriter(working_copy, engine='openpyxl', mode='a', if_sheet_exists='overlay') as writer:  \n",
    "    keep.to_excel(writer, sheet_name=tabName, index=False, startrow=psd_startrow, startcol=psd_startcol)\n"
   ]
  },
  {
   "cell_type": "code",
   "execution_count": 650,
   "metadata": {},
   "outputs": [],
   "source": [
    "# Find where to append removals and insert reason why they were removed\n",
    "original_end_location = len(psd_data) + psd_startrow          # This is the last row of the original PSD (0-indexed) \n",
    "append_location = original_end_location - len(removals) + 2 # This is the new location/row where we will append the removals\n",
    "\n",
    "# Reason/Justification for removal\n",
    "timeStamp = datetime.datetime.now().strftime(\"%m-%d-%Y\")\n",
    "reason = input(\"Reason for removal: \")\n",
    "authority = input(\"Who authorized/requested this change? \")\n",
    "\n",
    "removal_note = timeStamp + \" \" + reason + \" per \" + authority\n",
    "\n",
    "# Insert note to top of removal dataframe\n",
    "new_row = pd.DataFrame({'ID': removal_note}, index =[0])\n",
    "removals = pd.concat([new_row, removals[:]]).reset_index(drop = True) # Concatenate new_row with df\n",
    "\n",
    "# Reorder columns to match the 2 dataframe columns\n",
    "column_list = keep.columns\n",
    "removals = removals[column_list]"
   ]
  },
  {
   "cell_type": "code",
   "execution_count": 651,
   "metadata": {},
   "outputs": [],
   "source": [
    "# Edit New Tab to clear cells with old data after first [END] value is reached\n",
    "num_rows = len(keep)               # Finds [END] in dataframe\n",
    "after_end_row = num_rows + psd_startrow + 1 # Calculates where [END] row + 1 will be in the PSD\n",
    "\n",
    "ws_modified = wb[tabName]\n",
    "ws_modified.delete_rows(after_end_row-1, len(removals)) # clears the rows containing old data\n",
    "\n",
    "# Fix formatting\n",
    "from openpyxl.styles import PatternFill\n",
    "for rows in ws_modified.iter_rows(min_row=append_location+2, max_row=append_location+2, min_col=1, max_col=40):\n",
    "    for cell in rows:\n",
    "        cell.fill = PatternFill(start_color=\"FF0000\", end_color=\"FF0000\", fill_type=\"solid\")\n",
    "\n",
    "wb.save(working_copy)"
   ]
  },
  {
   "cell_type": "code",
   "execution_count": 652,
   "metadata": {},
   "outputs": [],
   "source": [
    "# This writes the removed data to the bottom of the newly created tab\n",
    "with pd.ExcelWriter(working_copy, engine='openpyxl', mode='a', if_sheet_exists='overlay') as writer:  \n",
    "    removals.to_excel(writer, sheet_name=tabName, index=False, header=False, startrow=append_location+1, startcol=psd_startcol)"
   ]
  },
  {
   "cell_type": "code",
   "execution_count": 653,
   "metadata": {},
   "outputs": [],
   "source": [
    "# Remove original tab, replace with new one\n"
   ]
  },
  {
   "cell_type": "code",
   "execution_count": null,
   "metadata": {},
   "outputs": [],
   "source": [
    "# Check for any misses\n",
    "# print(keep[keep['BOM'].isin(str_list)])"
   ]
  }
 ],
 "metadata": {
  "interpreter": {
   "hash": "48fa2eccdebaf1ff24b5e55dfacc47ca863d8022685fa20f5e1e5031fac11810"
  },
  "kernelspec": {
   "display_name": "Python 3.8.3 64-bit (system)",
   "language": "python",
   "name": "python3"
  },
  "language_info": {
   "codemirror_mode": {
    "name": "ipython",
    "version": 3
   },
   "file_extension": ".py",
   "mimetype": "text/x-python",
   "name": "python",
   "nbconvert_exporter": "python",
   "pygments_lexer": "ipython3",
   "version": "3.8.3"
  },
  "orig_nbformat": 4
 },
 "nbformat": 4,
 "nbformat_minor": 2
}
