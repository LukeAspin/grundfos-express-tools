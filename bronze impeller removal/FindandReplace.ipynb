{
 "cells": [
  {
   "cell_type": "code",
   "execution_count": null,
   "metadata": {},
   "outputs": [],
   "source": [
    "#Writing Replacement Function\n",
    "import pandas as pd\n",
    "import numpy as np\n",
    "from utils.Dataframe_tools import PSD \n",
    "from utils import iterateSubDirFiles\n",
    "\n",
    "#Setting the Values\n",
    "IO='input files\\KPBom.xlsx'\n",
    "\n",
    "find_remove=[{\n",
    "    '91840054':'99717392',\n",
    "    '91840056':'99717485',\n",
    "    '98441969':'92758523',\n",
    "    '96698939':'92758528',     # in KPbom.xlsx \n",
    "    '96698968':'92758121',     # in KPbom.xlsx\n",
    "    '96768950':'92758767',     # in KPbom.xlsx\n",
    "    '99413027':'92758120',\n",
    "    '1020-3/4':'1020-5/6',\n",
    "    '1020-3_4':'1020-5_6',\n",
    "    'Desc-1020-3_4-KP_4':'Desc-1020-5_6-KP_6',\n",
    "    'Desc-1020-3_4-KP_3':'Desc-1020-5_6-KP_5'\n",
    "},]\n",
    "\n",
    "def find_and_replace(df:pd.DataFrame,to_replace,new_value)->None:\n",
    "    df.replace(to_replace=to_replace,value=new_value,regex=True,inplace=True)\n",
    "\n",
    "def change_psd_file(filename,function,*args,**kwargs)->list:\n",
    "    sheet_list=pd.ExcelFile(filename).sheet_names\n",
    "    df_dict={}\n",
    "    for sheet in sheet_list:\n",
    "        try:\n",
    "            df=PSD(io=filename,sheet_name=sheet)\n",
    "            function(df.psd_data,*args,**kwargs)\n",
    "            df_dict.update({sheet:df})\n",
    "        except TypeError:\n",
    "            print(sheet.title()+\" is not in PSD format.\")\n",
    "    return df_dict\n",
    "        \n",
    "\n",
    "dfs=change_psd_file(filename=IO,function=find_and_replace,to_replace=list(find_remove[0].keys()),new_value=list(find_remove[0].values()))\n",
    "\n"
   ]
  },
  {
   "cell_type": "code",
   "execution_count": null,
   "metadata": {},
   "outputs": [],
   "source": [
    "case=dfs['Case']\n",
    "data=case.psd_data\n",
    "header=case.header_data"
   ]
  },
  {
   "cell_type": "code",
   "execution_count": 60,
   "metadata": {},
   "outputs": [],
   "source": [
    "\n",
    "\n",
    "# for id in IDs:\n",
    "#     data2.get_group(id)\n",
    "\n",
    "endr=header[header.iloc[:,0].str.startswith(\"[\")].index[0]\n",
    "\n",
    "classes=header[:endr].values.tolist()\n",
    "types=header.iloc[endr].tolist()\n",
    "arr=[]\n",
    "#Now I need to iterate over the classes\n",
    "for row in classes:\n",
    "    dct={}\n",
    "    new_data=data\n",
    "    new_data.columns=row\n",
    "    column_numbers = [x for x in range(new_data.shape[1])]\n",
    "    for j,col in enumerate(row):\n",
    "        dct2={}\n",
    "        if j==0:\n",
    "            dct.update({'class':col})\n",
    "        if str(col).strip().lower()=='nan':\n",
    "            column_numbers .remove(j)\n",
    "        else:\n",
    "            if j==0:\n",
    "                column_numbers.remove(0)\n",
    "            else:\n",
    "                dct2.update({col:types[j]})\n",
    "        if str(col).strip().lower()=='id':\n",
    "            data2=data.groupby(col)\n",
    "            IDs=list(data2.groups.keys())\n",
    "            dct.update({'instances':IDs})\n",
    "    new_data=new_data.iloc[:, column_numbers]\n",
    "    dct.update({'data':new_data})\n",
    "    dct.update({'DataTypes':dct2})\n",
    "    arr.append(dct)\n",
    "\n",
    "    \n"
   ]
  },
  {
   "cell_type": "code",
   "execution_count": null,
   "metadata": {},
   "outputs": [],
   "source": []
  },
  {
   "cell_type": "code",
   "execution_count": 55,
   "metadata": {},
   "outputs": [],
   "source": [
    "XML=arr[0]['data'].to_xml(index=False,row_name='instance',root_name='class')\n",
    "a=ET.fromstring(XML)\n",
    "ET.SubElement(a,\"Instances\")\n",
    "b=ET.ElementTree(a)\n",
    "b.write('test.xml')"
   ]
  },
  {
   "cell_type": "code",
   "execution_count": 46,
   "metadata": {},
   "outputs": [
    {
     "ename": "AttributeError",
     "evalue": "module 'xml.etree.ElementTree' has no attribute 'write'",
     "output_type": "error",
     "traceback": [
      "\u001b[1;31m---------------------------------------------------------------------------\u001b[0m",
      "\u001b[1;31mAttributeError\u001b[0m                            Traceback (most recent call last)",
      "\u001b[1;32mc:\\Projects\\2022\\Michaels_Code\\grundfos-express-tools\\bronze impeller removal\\FindandReplace.ipynb Cell 5'\u001b[0m in \u001b[0;36m<cell line: 10>\u001b[1;34m()\u001b[0m\n\u001b[0;32m      <a href='vscode-notebook-cell:/c%3A/Projects/2022/Michaels_Code/grundfos-express-tools/bronze%20impeller%20removal/FindandReplace.ipynb#ch0000010?line=6'>7</a>\u001b[0m \u001b[39mwith\u001b[39;00m \u001b[39mopen\u001b[39m(\u001b[39m'\u001b[39m\u001b[39mtest.xml\u001b[39m\u001b[39m'\u001b[39m,\u001b[39m'\u001b[39m\u001b[39mwb\u001b[39m\u001b[39m'\u001b[39m) \u001b[39mas\u001b[39;00m doc:\n\u001b[0;32m      <a href='vscode-notebook-cell:/c%3A/Projects/2022/Michaels_Code/grundfos-express-tools/bronze%20impeller%20removal/FindandReplace.ipynb#ch0000010?line=7'>8</a>\u001b[0m     doc\u001b[39m.\u001b[39mwrite(ET\u001b[39m.\u001b[39mtostring(root,encoding\u001b[39m=\u001b[39m\u001b[39m'\u001b[39m\u001b[39mUTF-8\u001b[39m\u001b[39m'\u001b[39m,xml_declaration\u001b[39m=\u001b[39m\u001b[39mTrue\u001b[39;00m,short_empty_elements\u001b[39m=\u001b[39m\u001b[39mFalse\u001b[39;00m))\n\u001b[1;32m---> <a href='vscode-notebook-cell:/c%3A/Projects/2022/Michaels_Code/grundfos-express-tools/bronze%20impeller%20removal/FindandReplace.ipynb#ch0000010?line=9'>10</a>\u001b[0m ET\u001b[39m.\u001b[39;49mwrite()\n",
      "\u001b[1;31mAttributeError\u001b[0m: module 'xml.etree.ElementTree' has no attribute 'write'"
     ]
    }
   ],
   "source": [
    "#Converting to XML\n",
    "\n",
    "import xml.etree.ElementTree as ET\n",
    "\n",
    "root=ET.Element('FirepondSPCDatabase',attrib={'version':'3.0'}) #Creates the Root Node\n",
    "\n",
    "with open('test.xml','wb') as doc:\n",
    "    doc.write(ET.tostring(root,encoding='UTF-8',xml_declaration=True,short_empty_elements=False))\n",
    "\n"
   ]
  },
  {
   "cell_type": "code",
   "execution_count": null,
   "metadata": {},
   "outputs": [],
   "source": [
    "new_data.iloc[:,[0,1]]"
   ]
  }
 ],
 "metadata": {
  "interpreter": {
   "hash": "5d89935b22884bac8e846ef6a5fb14ff565b7e382ac92ebe1031401d4b8e3f29"
  },
  "kernelspec": {
   "display_name": "Python 3.10.2 64-bit",
   "language": "python",
   "name": "python3"
  },
  "language_info": {
   "codemirror_mode": {
    "name": "ipython",
    "version": 3
   },
   "file_extension": ".py",
   "mimetype": "text/x-python",
   "name": "python",
   "nbconvert_exporter": "python",
   "pygments_lexer": "ipython3",
   "version": "3.10.2"
  },
  "orig_nbformat": 4
 },
 "nbformat": 4,
 "nbformat_minor": 2
}
