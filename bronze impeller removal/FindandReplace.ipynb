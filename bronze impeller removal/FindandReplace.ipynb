{
 "cells": [
  {
   "cell_type": "code",
   "execution_count": 10,
   "metadata": {},
   "outputs": [],
   "source": [
    "import pandas as pd\n",
    "from utils.Dataframe_tools import PSD \n",
    "from utils import add_function_to_task,process_dir,multi_PSD,write_new_PSD"
   ]
  },
  {
   "cell_type": "code",
   "execution_count": 2,
   "metadata": {},
   "outputs": [],
   "source": [
    "#Setting the Values\n",
    "IO='input files\\KPBom.xlsx'\n",
    "\n",
    "find_remove=[{\n",
    "    '91840054':'99717392',\n",
    "    '91840056':'99717485',\n",
    "    '98441969':'92758523',\n",
    "    '96698939':'92758528',     # in KPbom.xlsx \n",
    "    '96698968':'92758121',     # in KPbom.xlsx\n",
    "    '96768950':'92758767',     # in KPbom.xlsx\n",
    "    '99413027':'92758120',\n",
    "    '1020-3/4':'1020-5/6',\n",
    "    '1020-3_4':'1020-5_6',\n",
    "    'Desc-1020-3_4-KP_4':'Desc-1020-5_6-KP_6',\n",
    "    'Desc-1020-3_4-KP_3':'Desc-1020-5_6-KP_5'\n",
    "},]"
   ]
  },
  {
   "cell_type": "code",
   "execution_count": 3,
   "metadata": {},
   "outputs": [],
   "source": [
    "#Set Sheet = all\n",
    "Data=[]\n",
    "sheet_list=pd.ExcelFile(IO).sheet_names\n"
   ]
  },
  {
   "cell_type": "code",
   "execution_count": 4,
   "metadata": {},
   "outputs": [],
   "source": [
    "Stuff=PSD(io=IO,sheet_name='Case')\n"
   ]
  },
  {
   "cell_type": "code",
   "execution_count": 5,
   "metadata": {},
   "outputs": [],
   "source": [
    "df=Stuff.psd_data"
   ]
  },
  {
   "cell_type": "code",
   "execution_count": null,
   "metadata": {},
   "outputs": [],
   "source": [
    "# for old_pn, new_pn in find_remove[0].items():\n",
    "#     df.replace(to_replace=old_pn, value=new_pn, inplace=True, regex=True)\n",
    "#     print('Old PN is:'+old_pn,'\\nNew PN is:'+new_pn)"
   ]
  },
  {
   "cell_type": "code",
   "execution_count": null,
   "metadata": {},
   "outputs": [],
   "source": [
    "pd.ExcelFile(IO).sheet_names"
   ]
  },
  {
   "cell_type": "code",
   "execution_count": 14,
   "metadata": {},
   "outputs": [],
   "source": [
    "#Writing Replacement Function\n",
    "\n",
    "def find_and_replace(df:pd.DataFrame,to_replace,new_value)->None:\n",
    "    df.replace(to_replace=to_replace,value=new_value,regex=True,inplace=True)\n",
    "\n",
    "    "
   ]
  },
  {
   "cell_type": "code",
   "execution_count": 17,
   "metadata": {},
   "outputs": [
    {
     "ename": "BrokenProcessPool",
     "evalue": "A process in the process pool was terminated abruptly while the future was running or pending.",
     "output_type": "error",
     "traceback": [
      "\u001b[1;31m---------------------------------------------------------------------------\u001b[0m",
      "\u001b[1;31mBrokenProcessPool\u001b[0m                         Traceback (most recent call last)",
      "\u001b[1;32mc:\\Projects\\2022\\Michaels_Code\\grundfos-express-tools\\bronze impeller removal\\FindandReplace.ipynb Cell 9'\u001b[0m in \u001b[0;36m<cell line: 6>\u001b[1;34m()\u001b[0m\n\u001b[0;32m      <a href='vscode-notebook-cell:/c%3A/Projects/2022/Michaels_Code/grundfos-express-tools/bronze%20impeller%20removal/FindandReplace.ipynb#ch0000009?line=3'>4</a>\u001b[0m tasks\u001b[39m=\u001b[39mprocess_dir(MYDIR,[[\u001b[39m'\u001b[39m\u001b[39mCase\u001b[39m\u001b[39m'\u001b[39m]],target_dir,\u001b[39mFalse\u001b[39;00m)\n\u001b[0;32m      <a href='vscode-notebook-cell:/c%3A/Projects/2022/Michaels_Code/grundfos-express-tools/bronze%20impeller%20removal/FindandReplace.ipynb#ch0000009?line=4'>5</a>\u001b[0m add_function_to_task(tasks,find_and_replace,\u001b[39mlist\u001b[39m(find_remove[\u001b[39m0\u001b[39m]\u001b[39m.\u001b[39mkeys()),\u001b[39mlist\u001b[39m(find_remove[\u001b[39m0\u001b[39m]\u001b[39m.\u001b[39mvalues()))\n\u001b[1;32m----> <a href='vscode-notebook-cell:/c%3A/Projects/2022/Michaels_Code/grundfos-express-tools/bronze%20impeller%20removal/FindandReplace.ipynb#ch0000009?line=5'>6</a>\u001b[0m multi_PSD(tasks,write_new_PSD)\n",
      "File \u001b[1;32mc:\\Projects\\2022\\Michaels_Code\\grundfos-express-tools\\bronze impeller removal\\utils\\mp_psd.py:17\u001b[0m, in \u001b[0;36mmulti_PSD\u001b[1;34m(tasks, exe_func)\u001b[0m\n\u001b[0;32m     <a href='file:///c%3A/Projects/2022/Michaels_Code/grundfos-express-tools/bronze%20impeller%20removal/utils/mp_psd.py?line=14'>15</a>\u001b[0m         futures\u001b[39m.\u001b[39mappend(future)\n\u001b[0;32m     <a href='file:///c%3A/Projects/2022/Michaels_Code/grundfos-express-tools/bronze%20impeller%20removal/utils/mp_psd.py?line=15'>16</a>\u001b[0m     \u001b[39mfor\u001b[39;00m future \u001b[39min\u001b[39;00m as_completed(futures):\n\u001b[1;32m---> <a href='file:///c%3A/Projects/2022/Michaels_Code/grundfos-express-tools/bronze%20impeller%20removal/utils/mp_psd.py?line=16'>17</a>\u001b[0m         future\u001b[39m.\u001b[39;49mresult()\n\u001b[0;32m     <a href='file:///c%3A/Projects/2022/Michaels_Code/grundfos-express-tools/bronze%20impeller%20removal/utils/mp_psd.py?line=17'>18</a>\u001b[0m \u001b[39mprint\u001b[39m(\u001b[39mf\u001b[39m\u001b[39m'\u001b[39m\u001b[39mProcess took \u001b[39m\u001b[39m{\u001b[39;00mtime\u001b[39m.\u001b[39mtime()\u001b[39m-\u001b[39mstart\u001b[39m}\u001b[39;00m\u001b[39m'\u001b[39m)\n",
      "File \u001b[1;32mc:\\Programs\\Python\\Python3102\\lib\\concurrent\\futures\\_base.py:439\u001b[0m, in \u001b[0;36mFuture.result\u001b[1;34m(self, timeout)\u001b[0m\n\u001b[0;32m    <a href='file:///c%3A/Programs/Python/Python3102/lib/concurrent/futures/_base.py?line=436'>437</a>\u001b[0m     \u001b[39mraise\u001b[39;00m CancelledError()\n\u001b[0;32m    <a href='file:///c%3A/Programs/Python/Python3102/lib/concurrent/futures/_base.py?line=437'>438</a>\u001b[0m \u001b[39melif\u001b[39;00m \u001b[39mself\u001b[39m\u001b[39m.\u001b[39m_state \u001b[39m==\u001b[39m FINISHED:\n\u001b[1;32m--> <a href='file:///c%3A/Programs/Python/Python3102/lib/concurrent/futures/_base.py?line=438'>439</a>\u001b[0m     \u001b[39mreturn\u001b[39;00m \u001b[39mself\u001b[39;49m\u001b[39m.\u001b[39;49m__get_result()\n\u001b[0;32m    <a href='file:///c%3A/Programs/Python/Python3102/lib/concurrent/futures/_base.py?line=440'>441</a>\u001b[0m \u001b[39mself\u001b[39m\u001b[39m.\u001b[39m_condition\u001b[39m.\u001b[39mwait(timeout)\n\u001b[0;32m    <a href='file:///c%3A/Programs/Python/Python3102/lib/concurrent/futures/_base.py?line=442'>443</a>\u001b[0m \u001b[39mif\u001b[39;00m \u001b[39mself\u001b[39m\u001b[39m.\u001b[39m_state \u001b[39min\u001b[39;00m [CANCELLED, CANCELLED_AND_NOTIFIED]:\n",
      "File \u001b[1;32mc:\\Programs\\Python\\Python3102\\lib\\concurrent\\futures\\_base.py:391\u001b[0m, in \u001b[0;36mFuture.__get_result\u001b[1;34m(self)\u001b[0m\n\u001b[0;32m    <a href='file:///c%3A/Programs/Python/Python3102/lib/concurrent/futures/_base.py?line=388'>389</a>\u001b[0m \u001b[39mif\u001b[39;00m \u001b[39mself\u001b[39m\u001b[39m.\u001b[39m_exception:\n\u001b[0;32m    <a href='file:///c%3A/Programs/Python/Python3102/lib/concurrent/futures/_base.py?line=389'>390</a>\u001b[0m     \u001b[39mtry\u001b[39;00m:\n\u001b[1;32m--> <a href='file:///c%3A/Programs/Python/Python3102/lib/concurrent/futures/_base.py?line=390'>391</a>\u001b[0m         \u001b[39mraise\u001b[39;00m \u001b[39mself\u001b[39m\u001b[39m.\u001b[39m_exception\n\u001b[0;32m    <a href='file:///c%3A/Programs/Python/Python3102/lib/concurrent/futures/_base.py?line=391'>392</a>\u001b[0m     \u001b[39mfinally\u001b[39;00m:\n\u001b[0;32m    <a href='file:///c%3A/Programs/Python/Python3102/lib/concurrent/futures/_base.py?line=392'>393</a>\u001b[0m         \u001b[39m# Break a reference cycle with the exception in self._exception\u001b[39;00m\n\u001b[0;32m    <a href='file:///c%3A/Programs/Python/Python3102/lib/concurrent/futures/_base.py?line=393'>394</a>\u001b[0m         \u001b[39mself\u001b[39m \u001b[39m=\u001b[39m \u001b[39mNone\u001b[39;00m\n",
      "\u001b[1;31mBrokenProcessPool\u001b[0m: A process in the process pool was terminated abruptly while the future was running or pending."
     ]
    }
   ],
   "source": [
    "import pandas as pd\n",
    "from utils.Dataframe_tools import PSD \n",
    "from utils import add_function_to_task,process_dir,multi_PSD,write_new_PSD\n",
    "\n",
    "MYDIR= r\"C:\\Projects\\2022\\Michaels_Code\\grundfos-express-tools\\bronze impeller removal\\input files\"\n",
    "target_dir=r'C:\\Projects\\2022\\Michaels_Code\\grundfos-express-tools\\bronze impeller removal\\output files'\n",
    "\n",
    "#Setting the Values\n",
    "IO='input files\\KPBom.xlsx'\n",
    "\n",
    "find_remove=[{\n",
    "    '91840054':'99717392',\n",
    "    '91840056':'99717485',\n",
    "    '98441969':'92758523',\n",
    "    '96698939':'92758528',     # in KPbom.xlsx \n",
    "    '96698968':'92758121',     # in KPbom.xlsx\n",
    "    '96768950':'92758767',     # in KPbom.xlsx\n",
    "    '99413027':'92758120',\n",
    "    '1020-3/4':'1020-5/6',\n",
    "    '1020-3_4':'1020-5_6',\n",
    "    'Desc-1020-3_4-KP_4':'Desc-1020-5_6-KP_6',\n",
    "    'Desc-1020-3_4-KP_3':'Desc-1020-5_6-KP_5'\n",
    "},]\n",
    "\n",
    "def find_and_replace(df:pd.DataFrame,to_replace,new_value)->None:\n",
    "    df.replace(to_replace=to_replace,value=new_value,regex=True,inplace=True)\n",
    "\n",
    "\n",
    "tasks=process_dir(MYDIR,[['Case']],target_dir,False)\n",
    "add_function_to_task(tasks,find_and_replace,list(find_remove[0].keys()),list(find_remove[0].values()))\n",
    "multi_PSD(tasks,write_new_PSD)"
   ]
  }
 ],
 "metadata": {
  "interpreter": {
   "hash": "5d89935b22884bac8e846ef6a5fb14ff565b7e382ac92ebe1031401d4b8e3f29"
  },
  "kernelspec": {
   "display_name": "Python 3.10.2 64-bit",
   "language": "python",
   "name": "python3"
  },
  "language_info": {
   "codemirror_mode": {
    "name": "ipython",
    "version": 3
   },
   "file_extension": ".py",
   "mimetype": "text/x-python",
   "name": "python",
   "nbconvert_exporter": "python",
   "pygments_lexer": "ipython3",
   "version": "3.10.2"
  },
  "orig_nbformat": 4
 },
 "nbformat": 4,
 "nbformat_minor": 2
}
