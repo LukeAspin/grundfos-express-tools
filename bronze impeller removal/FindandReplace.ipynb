{
 "cells": [
  {
   "cell_type": "code",
   "execution_count": 1,
   "metadata": {},
   "outputs": [],
   "source": [
    "import pandas as pd\n",
    "from utils.psd_tools import process_sheet"
   ]
  },
  {
   "cell_type": "code",
   "execution_count": 2,
   "metadata": {},
   "outputs": [],
   "source": [
    "#Setting the Values\n",
    "IO='input files\\KPBom.xlsx'\n",
    "\n",
    "find_remove=[{\n",
    "    '91840054':'99717392',\n",
    "    '91840056':'99717485',\n",
    "    '98441969':'92758523',\n",
    "    '96698939':'92758528',     # in KPbom.xlsx \n",
    "    '96698968':'92758121',     # in KPbom.xlsx\n",
    "    '96768950':'92758767',     # in KPbom.xlsx\n",
    "    '99413027':'92758120',\n",
    "    '1020-3/4':'1020-5/6',\n",
    "    '\\1020-3_4':'1020-5_6',\n",
    "    'Desc-1020-3_4-KP_4':'Desc-1020-5_6-KP_6',\n",
    "    'Desc-1020-3_4-KP_3':'Desc-1020-5_6-KP_5'\n",
    "},]"
   ]
  },
  {
   "cell_type": "code",
   "execution_count": 3,
   "metadata": {},
   "outputs": [
    {
     "ename": "ValueError",
     "evalue": "The truth value of a DataFrame is ambiguous. Use a.empty, a.bool(), a.item(), a.any() or a.all().",
     "output_type": "error",
     "traceback": [
      "\u001b[1;31m---------------------------------------------------------------------------\u001b[0m",
      "\u001b[1;31mValueError\u001b[0m                                Traceback (most recent call last)",
      "\u001b[1;32mc:\\Projects\\2022\\Michaels_Code\\grundfos-express-tools\\bronze impeller removal\\FindandReplace.ipynb Cell 3'\u001b[0m in \u001b[0;36m<cell line: 5>\u001b[1;34m()\u001b[0m\n\u001b[0;32m      <a href='vscode-notebook-cell:/c%3A/Projects/2022/Michaels_Code/grundfos-express-tools/bronze%20impeller%20removal/FindandReplace.ipynb#ch0000003?line=1'>2</a>\u001b[0m Data\u001b[39m=\u001b[39m[]\n\u001b[0;32m      <a href='vscode-notebook-cell:/c%3A/Projects/2022/Michaels_Code/grundfos-express-tools/bronze%20impeller%20removal/FindandReplace.ipynb#ch0000003?line=2'>3</a>\u001b[0m sheet_list\u001b[39m=\u001b[39mpd\u001b[39m.\u001b[39mExcelFile(IO)\u001b[39m.\u001b[39msheet_names\n\u001b[1;32m----> <a href='vscode-notebook-cell:/c%3A/Projects/2022/Michaels_Code/grundfos-express-tools/bronze%20impeller%20removal/FindandReplace.ipynb#ch0000003?line=4'>5</a>\u001b[0m process_sheet((IO,\u001b[39mNone\u001b[39;49;00m),sheet_name\u001b[39m=\u001b[39;49m\u001b[39m'\u001b[39;49m\u001b[39mCase\u001b[39;49m\u001b[39m'\u001b[39;49m,use_header\u001b[39m=\u001b[39;49m\u001b[39mTrue\u001b[39;49;00m,removal_note\u001b[39m=\u001b[39;49m\u001b[39mFalse\u001b[39;49;00m)\n",
      "File \u001b[1;32mc:\\Projects\\2022\\Michaels_Code\\grundfos-express-tools\\bronze impeller removal\\utils\\psd_tools.py:87\u001b[0m, in \u001b[0;36mprocess_sheet\u001b[1;34m(file, sheet_name, removal_note, use_header)\u001b[0m\n\u001b[0;32m     <a href='file:///c%3A/Projects/2022/Michaels_Code/grundfos-express-tools/bronze%20impeller%20removal/utils/psd_tools.py?line=84'>85</a>\u001b[0m \u001b[39mif\u001b[39;00m \u001b[39mnot\u001b[39;00m \u001b[39mbool\u001b[39m(removal_note) \u001b[39mand\u001b[39;00m \u001b[39mnot\u001b[39;00m removal_note \u001b[39m==\u001b[39m \u001b[39mFalse\u001b[39;00m:\n\u001b[0;32m     <a href='file:///c%3A/Projects/2022/Michaels_Code/grundfos-express-tools/bronze%20impeller%20removal/utils/psd_tools.py?line=85'>86</a>\u001b[0m     removal_note \u001b[39m=\u001b[39m add_removal_note()\n\u001b[1;32m---> <a href='file:///c%3A/Projects/2022/Michaels_Code/grundfos-express-tools/bronze%20impeller%20removal/utils/psd_tools.py?line=86'>87</a>\u001b[0m \u001b[39mif\u001b[39;00m header:\n\u001b[0;32m     <a href='file:///c%3A/Projects/2022/Michaels_Code/grundfos-express-tools/bronze%20impeller%20removal/utils/psd_tools.py?line=87'>88</a>\u001b[0m     \u001b[39mreturn\u001b[39;00m fname, header, psd_data, length, removal_note, sheet_name\n\u001b[0;32m     <a href='file:///c%3A/Projects/2022/Michaels_Code/grundfos-express-tools/bronze%20impeller%20removal/utils/psd_tools.py?line=88'>89</a>\u001b[0m \u001b[39mreturn\u001b[39;00m fname, psd_data, length, removal_note, sheet_name\n",
      "File \u001b[1;32mc:\\Programs\\Python\\Python3102\\lib\\site-packages\\pandas\\core\\generic.py:1527\u001b[0m, in \u001b[0;36mNDFrame.__nonzero__\u001b[1;34m(self)\u001b[0m\n\u001b[0;32m   <a href='file:///c%3A/Programs/Python/Python3102/lib/site-packages/pandas/core/generic.py?line=1524'>1525</a>\u001b[0m \u001b[39m@final\u001b[39m\n\u001b[0;32m   <a href='file:///c%3A/Programs/Python/Python3102/lib/site-packages/pandas/core/generic.py?line=1525'>1526</a>\u001b[0m \u001b[39mdef\u001b[39;00m \u001b[39m__nonzero__\u001b[39m(\u001b[39mself\u001b[39m):\n\u001b[1;32m-> <a href='file:///c%3A/Programs/Python/Python3102/lib/site-packages/pandas/core/generic.py?line=1526'>1527</a>\u001b[0m     \u001b[39mraise\u001b[39;00m \u001b[39mValueError\u001b[39;00m(\n\u001b[0;32m   <a href='file:///c%3A/Programs/Python/Python3102/lib/site-packages/pandas/core/generic.py?line=1527'>1528</a>\u001b[0m         \u001b[39mf\u001b[39m\u001b[39m\"\u001b[39m\u001b[39mThe truth value of a \u001b[39m\u001b[39m{\u001b[39;00m\u001b[39mtype\u001b[39m(\u001b[39mself\u001b[39m)\u001b[39m.\u001b[39m\u001b[39m__name__\u001b[39m\u001b[39m}\u001b[39;00m\u001b[39m is ambiguous. \u001b[39m\u001b[39m\"\u001b[39m\n\u001b[0;32m   <a href='file:///c%3A/Programs/Python/Python3102/lib/site-packages/pandas/core/generic.py?line=1528'>1529</a>\u001b[0m         \u001b[39m\"\u001b[39m\u001b[39mUse a.empty, a.bool(), a.item(), a.any() or a.all().\u001b[39m\u001b[39m\"\u001b[39m\n\u001b[0;32m   <a href='file:///c%3A/Programs/Python/Python3102/lib/site-packages/pandas/core/generic.py?line=1529'>1530</a>\u001b[0m     )\n",
      "\u001b[1;31mValueError\u001b[0m: The truth value of a DataFrame is ambiguous. Use a.empty, a.bool(), a.item(), a.any() or a.all()."
     ]
    }
   ],
   "source": [
    "#Set Sheet = all\n",
    "Data=[]\n",
    "sheet_list=pd.ExcelFile(IO).sheet_names\n",
    "\n",
    "process_sheet((IO,None),sheet_name='Case',use_header=True,removal_note=False)"
   ]
  },
  {
   "cell_type": "code",
   "execution_count": null,
   "metadata": {},
   "outputs": [],
   "source": [
    "\n"
   ]
  }
 ],
 "metadata": {
  "interpreter": {
   "hash": "5d89935b22884bac8e846ef6a5fb14ff565b7e382ac92ebe1031401d4b8e3f29"
  },
  "kernelspec": {
   "display_name": "Python 3.10.2 64-bit",
   "language": "python",
   "name": "python3"
  },
  "language_info": {
   "codemirror_mode": {
    "name": "ipython",
    "version": 3
   },
   "file_extension": ".py",
   "mimetype": "text/x-python",
   "name": "python",
   "nbconvert_exporter": "python",
   "pygments_lexer": "ipython3",
   "version": "3.10.2"
  },
  "orig_nbformat": 4
 },
 "nbformat": 4,
 "nbformat_minor": 2
}
